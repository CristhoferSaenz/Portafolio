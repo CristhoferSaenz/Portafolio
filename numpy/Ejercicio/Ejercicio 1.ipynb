{
 "cells": [
  {
   "cell_type": "markdown",
   "id": "7b94536e",
   "metadata": {},
   "source": [
    "# EJERCICIOS"
   ]
  },
  {
   "cell_type": "markdown",
   "id": "96117c10",
   "metadata": {},
   "source": [
    "### Ejercicio 01"
   ]
  },
  {
   "cell_type": "markdown",
   "id": "a0ee53ba",
   "metadata": {},
   "source": [
    "Crear un array 7x8 lleno de ceros de tipo entero"
   ]
  },
  {
   "cell_type": "code",
   "execution_count": 3,
   "id": "cb19440f",
   "metadata": {},
   "outputs": [
    {
     "name": "stdout",
     "output_type": "stream",
     "text": [
      "[[0 0 0 0 0 0 0]\n",
      " [0 0 0 0 0 0 0]\n",
      " [0 0 0 0 0 0 0]\n",
      " [0 0 0 0 0 0 0]\n",
      " [0 0 0 0 0 0 0]\n",
      " [0 0 0 0 0 0 0]\n",
      " [0 0 0 0 0 0 0]\n",
      " [0 0 0 0 0 0 0]]\n"
     ]
    }
   ],
   "source": [
    "import numpy as np\n",
    "\n",
    "a = np.array([(0,0,0,0,0,0,0),(0,0,0,0,0,0,0),(0,0,0,0,0,0,0),(0,0,0,0,0,0,0),(0,0,0,0,0,0,0),(0,0,0,0,0,0,0),(0,0,0,0,0,0,0),(0,0,0,0,0,0,0)])\n",
    "print(a)"
   ]
  },
  {
   "cell_type": "markdown",
   "id": "0d9f53a3",
   "metadata": {},
   "source": [
    "Crear un array 7x8 lleno de ceros salvo la primera fila que serán todo unos."
   ]
  },
  {
   "cell_type": "code",
   "execution_count": 14,
   "id": "8c7fbafc",
   "metadata": {},
   "outputs": [
    {
     "name": "stdout",
     "output_type": "stream",
     "text": [
      "[[1 0 0 0 0 0 0]\n",
      " [1 0 0 0 0 0 0]\n",
      " [1 0 0 0 0 0 0]\n",
      " [1 0 0 0 0 0 0]\n",
      " [1 0 0 0 0 0 0]\n",
      " [1 0 0 0 0 0 0]\n",
      " [1 0 0 0 0 0 0]\n",
      " [1 0 0 0 0 0 0]]\n"
     ]
    }
   ],
   "source": [
    "b = np.array([(1,0,0,0,0,0,0),(1,0,0,0,0,0,0),(1,0,0,0,0,0,0),(1,0,0,0,0,0,0),(1,0,0,0,0,0,0),(1,0,0,0,0,0,0),(1,0,0,0,0,0,0),(1,0,0,0,0,0,0)])\n",
    "print(b)"
   ]
  },
  {
   "cell_type": "markdown",
   "id": "aec845e8",
   "metadata": {},
   "source": [
    "Crear un array 7x8 lleno de ceros salvo la última fila que será el rango entre 5 y 8."
   ]
  },
  {
   "cell_type": "code",
   "execution_count": 14,
   "id": "9ba52c1f",
   "metadata": {},
   "outputs": [
    {
     "name": "stdout",
     "output_type": "stream",
     "text": [
      "[[0.  0.  0.  0.  0.  0.  0. ]\n",
      " [0.  0.  0.  0.  0.  0.  0. ]\n",
      " [0.  0.  0.  0.  0.  0.  0. ]\n",
      " [0.  0.  0.  0.  0.  0.  0. ]\n",
      " [0.  0.  0.  0.  0.  0.  0. ]\n",
      " [0.  0.  0.  0.  0.  0.  0. ]\n",
      " [0.  0.  0.  0.  0.  0.  0. ]\n",
      " [5.  5.5 6.  6.5 7.  7.5 7.9]]\n"
     ]
    }
   ],
   "source": [
    "c = np.array([(0,0,0,0,0,0,0),(0,0,0,0,0,0,0),(0,0,0,0,0,0,0),(0,0,0,0,0,0,0),(0,0,0,0,0,0,0),(0,0,0,0,0,0,0),(0,0,0,0,0,0,0),(5,5.5,6,6.5,7,7.5,7.9)])\n",
    "\n",
    "print(c)\n"
   ]
  }
 ],
 "metadata": {
  "kernelspec": {
   "display_name": "Python 3 (ipykernel)",
   "language": "python",
   "name": "python3"
  },
  "language_info": {
   "codemirror_mode": {
    "name": "ipython",
    "version": 3
   },
   "file_extension": ".py",
   "mimetype": "text/x-python",
   "name": "python",
   "nbconvert_exporter": "python",
   "pygments_lexer": "ipython3",
   "version": "3.9.12"
  }
 },
 "nbformat": 4,
 "nbformat_minor": 5
}

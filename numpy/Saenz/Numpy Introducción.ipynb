{
 "cells": [
  {
   "cell_type": "markdown",
   "id": "fb329b93",
   "metadata": {},
   "source": [
    "<center> <h1>Universidad Nacional de San Agustín de Arequipa</h1> </center> \n",
    "<center> <h1>Escuela Profesional de Ingeniería de Telecomunicaciones</h1> </center> \n",
    "<br>\n",
    "<center> <h1> </h1> </center> \n",
    "\n",
    "<center><img src=\"https://user-images.githubusercontent.com/19308295/115939517-f1c6fe80-a463-11eb-989c-812ab4942586.png\" width=\"380\" height=\"4200\"></center>\n",
    "<center> <h1>Curso:</h1> </center>\n",
    "<center> <h1>Computación 2</h1> </center>\n",
    "<br>\n",
    "<center> <h2>Docentes:</h2> </center>\n",
    "<center> <h2>Ing. Renzo Bolivar</h2> </center>\n",
    "<br>\n",
    "<center> <h2>Tema:</h2> </center>\n",
    "<center> <h2>Numpy I</h2> </center>\n",
    "<br>\n",
    "<center> <h2>Alumno: </h2> </center>\n",
    "<center> <h2>Cristhofer Alexis Saenz Gonzalez</h2> </center>\n",
    "<br>\n",
    "<br>"
   ]
  },
  {
   "cell_type": "markdown",
   "id": "2d4fc9b0",
   "metadata": {},
   "source": [
    "# Matrices en Numpy"
   ]
  },
  {
   "cell_type": "markdown",
   "id": "6121001d",
   "metadata": {},
   "source": [
    "### Matriz unidimensional"
   ]
  },
  {
   "cell_type": "code",
   "execution_count": 4,
   "id": "ad66bb94",
   "metadata": {},
   "outputs": [
    {
     "name": "stdout",
     "output_type": "stream",
     "text": [
      "[1 2 3]\n"
     ]
    }
   ],
   "source": [
    "import numpy as np\n",
    "a = np.array([1,2,3])\n",
    "print(a)"
   ]
  },
  {
   "cell_type": "markdown",
   "id": "8bad6623",
   "metadata": {},
   "source": [
    "Con la primera instrucción import numpy as np le estamos indicando a nuestro programa de Python que de ahora en adelante np será la referencia para todo lo referente a NumPy"
   ]
  },
  {
   "cell_type": "markdown",
   "id": "1637173b",
   "metadata": {},
   "source": [
    "### Matriz bidimensional"
   ]
  },
  {
   "cell_type": "code",
   "execution_count": 8,
   "id": "07e2d885",
   "metadata": {},
   "outputs": [
    {
     "name": "stdout",
     "output_type": "stream",
     "text": [
      "[[1 2 3]\n",
      " [4 5 6]]\n"
     ]
    }
   ],
   "source": [
    "b = np.array([(1,2,3),(4,5,6)])\n",
    "print(b)"
   ]
  },
  {
   "cell_type": "code",
   "execution_count": 9,
   "id": "f82f948f",
   "metadata": {},
   "outputs": [
    {
     "name": "stdout",
     "output_type": "stream",
     "text": [
      "[[10 20 30]\n",
      " [40 50 60]]\n"
     ]
    }
   ],
   "source": [
    "array = np.array ([[10,20,30],[40,50,60]] , dtype = np.int64)\n",
    "print (array)"
   ]
  },
  {
   "cell_type": "markdown",
   "id": "93434a78",
   "metadata": {},
   "source": [
    "### Porque usar NumPy"
   ]
  },
  {
   "cell_type": "markdown",
   "id": "b51ebb13",
   "metadata": {},
   "source": [
    "Porque usar NumPy en vez de utilizar las listas propias que ofrece Python para manejar estos datos, la primera razón es que NumPy ocupa menos memoria en comparación a las lista de Python, a su vez es bastante rápido en términos de ejecución. Lo que se observa en el siguiente ejemplo:"
   ]
  },
  {
   "cell_type": "markdown",
   "id": "560f26e4",
   "metadata": {},
   "source": [
    "### Cantidad de memoria asignada "
   ]
  },
  {
   "cell_type": "code",
   "execution_count": 11,
   "id": "4827d6e3",
   "metadata": {},
   "outputs": [
    {
     "name": "stdout",
     "output_type": "stream",
     "text": [
      "28000\n"
     ]
    }
   ],
   "source": [
    "import sys\n",
    "S = range(1000)\n",
    "print(sys.getsizeof(5)*len(S))"
   ]
  },
  {
   "cell_type": "code",
   "execution_count": 13,
   "id": "aa21db41",
   "metadata": {},
   "outputs": [
    {
     "name": "stdout",
     "output_type": "stream",
     "text": [
      "8000\n"
     ]
    }
   ],
   "source": [
    "D = np.arange(1000)\n",
    "print(D.size*D.itemsize)"
   ]
  },
  {
   "cell_type": "markdown",
   "id": "f18e5b0e",
   "metadata": {},
   "source": [
    "### Velocidad"
   ]
  },
  {
   "cell_type": "code",
   "execution_count": 16,
   "id": "2336b653",
   "metadata": {},
   "outputs": [
    {
     "name": "stdout",
     "output_type": "stream",
     "text": [
      "397.05681800842285\n"
     ]
    }
   ],
   "source": [
    "import time\n",
    "\n",
    "SIZE = 1000000\n",
    "\n",
    "L1 = range(SIZE)\n",
    "L2 = range(SIZE)\n",
    "\n",
    "start = time.time()\n",
    "result = [(x,y) for x,y in zip (L1,L2)] #se usa for \n",
    "print ((time.time()-start)*1000) #velocidad en listas"
   ]
  },
  {
   "cell_type": "code",
   "execution_count": 17,
   "id": "d25bad39",
   "metadata": {},
   "outputs": [
    {
     "name": "stdout",
     "output_type": "stream",
     "text": [
      "144315.19603729248\n"
     ]
    }
   ],
   "source": [
    "A1 = np.arange(SIZE)\n",
    "A2 = np.arange(SIZE)\n",
    "\n",
    "Start = time.time()\n",
    "result = A1 + A2                 ## solo se suma\n",
    "print((time.time()-start)*1000) ##Velocidad de Numpy\n"
   ]
  },
  {
   "cell_type": "markdown",
   "id": "5c35d357",
   "metadata": {},
   "source": [
    "## Matrices Vacias"
   ]
  },
  {
   "cell_type": "markdown",
   "id": "e518d2fb",
   "metadata": {},
   "source": [
    "En ocasiones se requiere crear matrices vacías, esto se refiere a que se requieren marcadores de posición iniciales, que luego pueden ser rellenados. Se puede inicializar matrices con unos o ceros, pero también puedes hacer matrices que se llenan con valores espaciados uniformemente, valores constantes o aleatorios.\n",
    "\n",
    "Algunas de las instrucciones para crear este tipo de matrices son las siguientes:"
   ]
  },
  {
   "cell_type": "markdown",
   "id": "96e95fb3",
   "metadata": {},
   "source": [
    "#### Crear una matriz en donde todos los valores sean igual a 1\n",
    "\n"
   ]
  },
  {
   "cell_type": "code",
   "execution_count": 28,
   "id": "3f161e01",
   "metadata": {},
   "outputs": [
    {
     "name": "stdout",
     "output_type": "stream",
     "text": [
      "[[1. 1. 1. 1. 1. 1. 1. 1. 1. 1.]\n",
      " [1. 1. 1. 1. 1. 1. 1. 1. 1. 1.]\n",
      " [1. 1. 1. 1. 1. 1. 1. 1. 1. 1.]]\n"
     ]
    }
   ],
   "source": [
    "uno = np.ones((3,10))\n",
    "print(uno)"
   ]
  },
  {
   "cell_type": "markdown",
   "id": "64965d9c",
   "metadata": {},
   "source": [
    "#### Crear una matriz en donde todos los valores sean igual a 0"
   ]
  },
  {
   "cell_type": "code",
   "execution_count": 27,
   "id": "7c1d8537",
   "metadata": {},
   "outputs": [
    {
     "name": "stdout",
     "output_type": "stream",
     "text": [
      "[[0. 0. 0. 0.]\n",
      " [0. 0. 0. 0.]\n",
      " [0. 0. 0. 0.]\n",
      " [0. 0. 0. 0.]\n",
      " [0. 0. 0. 0.]\n",
      " [0. 0. 0. 0.]\n",
      " [0. 0. 0. 0.]\n",
      " [0. 0. 0. 0.]]\n"
     ]
    }
   ],
   "source": [
    "cero = np.zeros((8,4))\n",
    "print(cero)"
   ]
  },
  {
   "cell_type": "markdown",
   "id": "13e89aaf",
   "metadata": {},
   "source": [
    "#### Crear una matriz de números aleatorios"
   ]
  },
  {
   "cell_type": "code",
   "execution_count": 24,
   "id": "9ce16680",
   "metadata": {},
   "outputs": [
    {
     "name": "stdout",
     "output_type": "stream",
     "text": [
      "[[0.38860566 0.56213008 0.66063778 0.89356143 0.52272085]\n",
      " [0.72000568 0.25087658 0.85938354 0.59898659 0.4328157 ]\n",
      " [0.26695077 0.12300811 0.21951175 0.70992122 0.77084749]\n",
      " [0.14990142 0.4813619  0.31553619 0.26269775 0.47826858]\n",
      " [0.05115373 0.40719353 0.21732521 0.42324723 0.00370084]\n",
      " [0.38408418 0.46643916 0.50995576 0.0141796  0.4331089 ]\n",
      " [0.44084199 0.00394089 0.05263986 0.3800599  0.25358749]\n",
      " [0.84590508 0.64880271 0.57963822 0.46504049 0.32840535]]\n"
     ]
    }
   ],
   "source": [
    "al = np.random.random((8,5))\n",
    "print(al)"
   ]
  },
  {
   "cell_type": "markdown",
   "id": "4b5793da",
   "metadata": {},
   "source": [
    "#### Crear una matriz vacía"
   ]
  },
  {
   "cell_type": "code",
   "execution_count": 35,
   "id": "0e4cde71",
   "metadata": {},
   "outputs": [
    {
     "name": "stdout",
     "output_type": "stream",
     "text": [
      "[[4.64187906e-310 0.00000000e+000]\n",
      " [0.00000000e+000 0.00000000e+000]\n",
      " [0.00000000e+000 0.00000000e+000]]\n"
     ]
    }
   ],
   "source": [
    "vacio = np.empty((3,2))\n",
    "print(vacio) "
   ]
  },
  {
   "cell_type": "markdown",
   "id": "3b55f747",
   "metadata": {},
   "source": [
    "#### Crear una matriz que contenga un solo valor en todas las posiciones"
   ]
  },
  {
   "cell_type": "code",
   "execution_count": 33,
   "id": "c85234f1",
   "metadata": {},
   "outputs": [
    {
     "name": "stdout",
     "output_type": "stream",
     "text": [
      "[[10 10 10 10 10]\n",
      " [10 10 10 10 10]\n",
      " [10 10 10 10 10]\n",
      " [10 10 10 10 10]\n",
      " [10 10 10 10 10]]\n"
     ]
    }
   ],
   "source": [
    "full = np.full((5,5),10)\n",
    "print(full)"
   ]
  },
  {
   "cell_type": "markdown",
   "id": "d7ee994d",
   "metadata": {},
   "source": [
    "#### Crear una matriz con rangos de números"
   ]
  },
  {
   "cell_type": "code",
   "execution_count": 37,
   "id": "b128fcdf",
   "metadata": {},
   "outputs": [
    {
     "name": "stdout",
     "output_type": "stream",
     "text": [
      "[ 0  2  4  6  8 10 12 14 16 18]\n"
     ]
    }
   ],
   "source": [
    "a = np.arange(0,20,2)\n",
    "print(a)"
   ]
  },
  {
   "cell_type": "code",
   "execution_count": 39,
   "id": "bb1daff8",
   "metadata": {},
   "outputs": [
    {
     "name": "stdout",
     "output_type": "stream",
     "text": [
      "[ 10.  20.  30.  40.  50.  60.  70.  80.  90. 100.]\n"
     ]
    }
   ],
   "source": [
    "a2 = np.linspace(10,100,10)\n",
    "print(a2)"
   ]
  },
  {
   "cell_type": "markdown",
   "id": "1862673d",
   "metadata": {},
   "source": [
    "##### Crear una matriz identidad"
   ]
  },
  {
   "cell_type": "code",
   "execution_count": 40,
   "id": "099ff665",
   "metadata": {},
   "outputs": [
    {
     "name": "stdout",
     "output_type": "stream",
     "text": [
      "[[1. 0. 0. 0.]\n",
      " [0. 1. 0. 0.]\n",
      " [0. 0. 1. 0.]\n",
      " [0. 0. 0. 1.]]\n",
      "[[1. 0. 0. 0.]\n",
      " [0. 1. 0. 0.]\n",
      " [0. 0. 1. 0.]\n",
      " [0. 0. 0. 1.]]\n"
     ]
    }
   ],
   "source": [
    "iden = np.eye(4,4)\n",
    "print(iden)\n",
    "\n",
    "iden2 = np.identity(4)\n",
    "print(iden2)"
   ]
  },
  {
   "cell_type": "markdown",
   "id": "10a6b455",
   "metadata": {},
   "source": [
    "# Inspeccionar matrices de NumPy"
   ]
  },
  {
   "cell_type": "markdown",
   "id": "5a15a9f4",
   "metadata": {},
   "source": [
    "#### Dimensión de una matriz"
   ]
  },
  {
   "cell_type": "code",
   "execution_count": 55,
   "id": "e7c0c1e6",
   "metadata": {},
   "outputs": [
    {
     "name": "stdout",
     "output_type": "stream",
     "text": [
      "2\n"
     ]
    }
   ],
   "source": [
    "A = np.array([(1,2,3),(4,5,6),(7,8,9)])\n",
    "print(A.ndim)"
   ]
  },
  {
   "cell_type": "markdown",
   "id": "8a8284b1",
   "metadata": {},
   "source": [
    "#### Tipo de Datos de una matriz"
   ]
  },
  {
   "cell_type": "code",
   "execution_count": 50,
   "id": "bc999ce8",
   "metadata": {},
   "outputs": [
    {
     "name": "stdout",
     "output_type": "stream",
     "text": [
      "int64\n"
     ]
    }
   ],
   "source": [
    "print(A.dtype)"
   ]
  },
  {
   "cell_type": "markdown",
   "id": "a1742232",
   "metadata": {},
   "source": [
    "#### Tamaño y forma de una matriz"
   ]
  },
  {
   "cell_type": "code",
   "execution_count": 53,
   "id": "c0ca03ee",
   "metadata": {},
   "outputs": [
    {
     "name": "stdout",
     "output_type": "stream",
     "text": [
      "9\n",
      "(1, 9)\n"
     ]
    }
   ],
   "source": [
    "b = np.array([(15,2,35,45,55,65,75,85,95)])\n",
    "print(b.size)\n",
    "print(b.shape)"
   ]
  },
  {
   "cell_type": "markdown",
   "id": "ebfe6649",
   "metadata": {},
   "source": [
    "#### Cambio de forma de una matriz"
   ]
  },
  {
   "cell_type": "code",
   "execution_count": 61,
   "id": "17329c0b",
   "metadata": {},
   "outputs": [
    {
     "name": "stdout",
     "output_type": "stream",
     "text": [
      "[[1 2 3]\n",
      " [2 3 1]]\n",
      "[[1 2]\n",
      " [3 2]\n",
      " [3 1]]\n"
     ]
    }
   ],
   "source": [
    "c = np.array ([(1,2,3),(2,3,1)])\n",
    "print(c)\n",
    "c = c.reshape(3,2)\n",
    "print(c)"
   ]
  },
  {
   "cell_type": "markdown",
   "id": "3b1b0026",
   "metadata": {},
   "source": [
    "#### Seleccionar elemento de una matriz"
   ]
  },
  {
   "cell_type": "code",
   "execution_count": 64,
   "id": "28ae34d0",
   "metadata": {},
   "outputs": [
    {
     "name": "stdout",
     "output_type": "stream",
     "text": [
      "30\n"
     ]
    }
   ],
   "source": [
    "x = np.array([(10,20,30),(15,25,35)])\n",
    "print(x[0,2])"
   ]
  },
  {
   "cell_type": "code",
   "execution_count": 68,
   "id": "69b633b6",
   "metadata": {},
   "outputs": [
    {
     "name": "stdout",
     "output_type": "stream",
     "text": [
      "[6 4]\n"
     ]
    }
   ],
   "source": [
    "a = np.array([(9,8,7,6),(1,2,3,4)])\n",
    "print(a[0:,3])"
   ]
  },
  {
   "cell_type": "markdown",
   "id": "e746cf57",
   "metadata": {},
   "source": [
    "# Operaciones Matemáticas entre matrices de NumPy"
   ]
  },
  {
   "cell_type": "markdown",
   "id": "989342c4",
   "metadata": {},
   "source": [
    "#### Valor mínimo, máximo y la suma de una matriz"
   ]
  },
  {
   "cell_type": "code",
   "execution_count": 73,
   "id": "9b7612e4",
   "metadata": {},
   "outputs": [
    {
     "name": "stdout",
     "output_type": "stream",
     "text": [
      "10\n",
      "100\n",
      "190\n"
     ]
    }
   ],
   "source": [
    "a = np.array ([(10,80,100)])\n",
    "print(a.min())\n",
    "print(a.max())\n",
    "print(a.sum())"
   ]
  },
  {
   "cell_type": "markdown",
   "id": "00de1980",
   "metadata": {},
   "source": [
    "#### Raiz Cuadrada y Desviación de una matriz"
   ]
  },
  {
   "cell_type": "code",
   "execution_count": 74,
   "id": "e4c81601",
   "metadata": {},
   "outputs": [
    {
     "name": "stdout",
     "output_type": "stream",
     "text": [
      "[[1.41421356 2.         2.44948974]\n",
      " [2.82842712 3.16227766 3.46410162]]\n",
      "3.415650255319866\n"
     ]
    }
   ],
   "source": [
    "a = np.array([(2,4,6),(8,10,12)])\n",
    "print(np.sqrt(a))\n",
    "print(np.std(a))"
   ]
  },
  {
   "cell_type": "markdown",
   "id": "cf6541d7",
   "metadata": {},
   "source": [
    "#### Suma, resta, multiplicación y división de dos matrices"
   ]
  },
  {
   "cell_type": "code",
   "execution_count": 77,
   "id": "ce54ce54",
   "metadata": {},
   "outputs": [
    {
     "name": "stdout",
     "output_type": "stream",
     "text": [
      "[[ 2  4  6]\n",
      " [ 6  8 10]]\n",
      "\n",
      "[[0 0 0]\n",
      " [0 0 0]]\n",
      "\n",
      "[[ 1  4  9]\n",
      " [ 9 16 25]]\n",
      "\n",
      "[[1. 1. 1.]\n",
      " [1. 1. 1.]]\n",
      "\n"
     ]
    }
   ],
   "source": [
    "x = np.array([(1,2,3),(3,4,5)])\n",
    "y = np.array([(1,2,3),(3,4,5)])\n",
    "print(x+y)\n",
    "print()\n",
    "print(x-y)\n",
    "print()\n",
    "print(x*y)\n",
    "print()\n",
    "print(x/y)\n",
    "print()"
   ]
  },
  {
   "cell_type": "markdown",
   "id": "318c2cbb",
   "metadata": {},
   "source": [
    "## Ejemplos"
   ]
  },
  {
   "cell_type": "markdown",
   "id": "1dbe00d7",
   "metadata": {},
   "source": [
    "Ejemplo 1: Cree una matriz de 5x5 con valores 1,2,3,4 justo debajo de la diagonal"
   ]
  },
  {
   "cell_type": "code",
   "execution_count": 43,
   "id": "096ec0b8",
   "metadata": {},
   "outputs": [
    {
     "name": "stdout",
     "output_type": "stream",
     "text": [
      "[[0 0 0 0 0]\n",
      " [1 0 0 0 0]\n",
      " [0 2 0 0 0]\n",
      " [0 0 3 0 0]\n",
      " [0 0 0 4 0]]\n"
     ]
    }
   ],
   "source": [
    "Z = np.diag(1+np.arange(4),k=-1)\n",
    "print(Z)"
   ]
  },
  {
   "cell_type": "markdown",
   "id": "50716852",
   "metadata": {},
   "source": [
    "Ejemplo 2: Crea un vector aleatorio de tamaño 30 y encuentra el valor medio "
   ]
  },
  {
   "cell_type": "code",
   "execution_count": 44,
   "id": "0334b1c4",
   "metadata": {},
   "outputs": [
    {
     "name": "stdout",
     "output_type": "stream",
     "text": [
      "0.5531328031492329\n"
     ]
    }
   ],
   "source": [
    "Z = np.random.random(30)\n",
    "m = Z.mean()\n",
    "print(m)"
   ]
  },
  {
   "cell_type": "markdown",
   "id": "9f8ca007",
   "metadata": {},
   "source": [
    "Ejemplo 3: ¿Cómo ordenar una matriz por la enésima columna?"
   ]
  },
  {
   "cell_type": "code",
   "execution_count": 45,
   "id": "afadb6e9",
   "metadata": {},
   "outputs": [
    {
     "name": "stdout",
     "output_type": "stream",
     "text": [
      "[[4 3 7]\n",
      " [3 1 3]\n",
      " [5 4 7]]\n",
      "[[3 1 3]\n",
      " [4 3 7]\n",
      " [5 4 7]]\n"
     ]
    }
   ],
   "source": [
    "Z = np.random.randint(0,10,(3,3))\n",
    "print(Z)\n",
    "print(Z[Z[:,1].argsort()])"
   ]
  },
  {
   "cell_type": "markdown",
   "id": "f295dc03",
   "metadata": {},
   "source": [
    "Ejemplo 4: ¿Cómo agregar un borde (lleno de 0) alrededor de una matriz existente?"
   ]
  },
  {
   "cell_type": "code",
   "execution_count": 46,
   "id": "d4b8bbe0",
   "metadata": {},
   "outputs": [
    {
     "name": "stdout",
     "output_type": "stream",
     "text": [
      "[[0. 0. 0. 0. 0. 0. 0.]\n",
      " [0. 1. 1. 1. 1. 1. 0.]\n",
      " [0. 1. 1. 1. 1. 1. 0.]\n",
      " [0. 1. 1. 1. 1. 1. 0.]\n",
      " [0. 1. 1. 1. 1. 1. 0.]\n",
      " [0. 1. 1. 1. 1. 1. 0.]\n",
      " [0. 0. 0. 0. 0. 0. 0.]]\n"
     ]
    }
   ],
   "source": [
    "Z = np.ones((5,5))\n",
    "Z = np.pad(Z, pad_width=1, mode='constant', constant_values=0)\n",
    "print(Z)"
   ]
  }
 ],
 "metadata": {
  "kernelspec": {
   "display_name": "Python 3 (ipykernel)",
   "language": "python",
   "name": "python3"
  },
  "language_info": {
   "codemirror_mode": {
    "name": "ipython",
    "version": 3
   },
   "file_extension": ".py",
   "mimetype": "text/x-python",
   "name": "python",
   "nbconvert_exporter": "python",
   "pygments_lexer": "ipython3",
   "version": "3.9.12"
  }
 },
 "nbformat": 4,
 "nbformat_minor": 5
}
